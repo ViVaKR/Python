{
 "cells": [
  {
   "cell_type": "markdown",
   "metadata": {},
   "source": [
    "# Series 객체 생성\n",
    "\n",
    "- 1차원 데이터를 위한 자료구조 \n",
    "  - Raw Data 를 파이썬 리스트로 표현\n",
    "  - Seires 클래스의 객체를 생성"
   ]
  },
  {
   "cell_type": "code",
   "execution_count": null,
   "metadata": {},
   "outputs": [],
   "source": [
    "fruits = ['orange', 'apple', 'pear', 'banana', 'kiwi', 'apple', 'banana']\n",
    "print(fruits.count('apple'))\n",
    "fruits.append(\"grape\")\n",
    "print(fruits)\n",
    "fruits.sort()\n",
    "print(fruits)\n",
    "fruits.reverse()\n",
    "print(fruits)\n",
    "fruits.pop()\n",
    "print(fruits)\n",
    "fruits.remove(\"apple\")\n",
    "print(fruits)"
   ]
  },
  {
   "cell_type": "code",
   "execution_count": null,
   "metadata": {},
   "outputs": [],
   "source": [
    "stack = [ 3, 4, 5]\n",
    "stack.append(6)\n",
    "stack.append(7)\n",
    "print(stack)\n",
    "stack.pop()\n",
    "print(stack)"
   ]
  },
  {
   "cell_type": "code",
   "execution_count": null,
   "metadata": {},
   "outputs": [],
   "source": [
    "import pandas as pd\n",
    "arr = [0, 1, 2, 3]\n",
    "arr.append(4)\n",
    "arr.insert(2, 100)\n",
    "arr.insert(arr.__len__(), 200)\n",
    "arr.sort()\n",
    "print(\"arr count: \", arr.count(0), \", arr length: \", arr.__len__())\n",
    "type(arr)\n",
    "s = pd.Series(arr)\n",
    "print(s)\n",
    "\n",
    "arr.reverse()\n",
    "print(arr)\n",
    "type(s)\n",
    "\n",
    "# data = [ 100, 200, 300]\n",
    "# index = [\"월\", \"화\", \"수\"]\n",
    "# 메로나 500\n",
    "# 누가바 800\n",
    "# 빠삐코 200"
   ]
  },
  {
   "cell_type": "code",
   "execution_count": null,
   "metadata": {},
   "outputs": [],
   "source": [
    "from pandas import Series, DataFrame\n",
    "import pandas as pd\n",
    "pd.Series([1, 2, 3, 4, 5])\n",
    "pd.DataFrame({'A': [1, 2, 3], 'B': [4, 5, 6]})\n",
    "pd.DataFrame({'A': [1, 2, 3], 'B': [4, 5, 6]}, index=['a', 'b', 'c'])"
   ]
  },
  {
   "cell_type": "markdown",
   "metadata": {},
   "source": [
    "### 리스트 컴프리헨션"
   ]
  },
  {
   "cell_type": "code",
   "execution_count": 30,
   "metadata": {},
   "outputs": [
    {
     "name": "stdout",
     "output_type": "stream",
     "text": [
      "[0, 1, 4, 9, 16, 25, 36, 49, 64, 81]\n"
     ]
    }
   ],
   "source": [
    "squares = []\n",
    "for x in range(10):\n",
    "    squares.append(x**2)\n",
    "\n",
    "print(squares)"
   ]
  },
  {
   "cell_type": "code",
   "execution_count": 31,
   "metadata": {},
   "outputs": [
    {
     "name": "stdout",
     "output_type": "stream",
     "text": [
      "[0, 1, 4, 9, 16, 25, 36, 49, 64, 81]\n"
     ]
    }
   ],
   "source": [
    "squares = list(map(lambda x: x**2, range(10)))\n",
    "print(squares)"
   ]
  },
  {
   "cell_type": "code",
   "execution_count": 33,
   "metadata": {},
   "outputs": [
    {
     "name": "stdout",
     "output_type": "stream",
     "text": [
      "[0, 1, 4, 9, 16, 25, 36, 49, 64, 81]\n"
     ]
    }
   ],
   "source": [
    "squares = [x**2 for x in range(10)]\n",
    "print(squares)"
   ]
  },
  {
   "cell_type": "code",
   "execution_count": 38,
   "metadata": {},
   "outputs": [
    {
     "name": "stdout",
     "output_type": "stream",
     "text": [
      "tuple =  [(1, 3), (1, 4), (2, 3), (2, 1), (2, 4), (3, 1), (3, 4)]\n"
     ]
    }
   ],
   "source": [
    "result = [(x, y) for x in [1, 2, 3] for y in [3, 1, 4] if x != y]\n",
    "print(\"tuple = \", result)\n"
   ]
  },
  {
   "cell_type": "code",
   "execution_count": null,
   "metadata": {},
   "outputs": [],
   "source": [
    "vec = [ -4, -2, 0, 2, 4]\n",
    "# create a new list with the values doubled\n",
    "result = [x*2 for x in vec]\n",
    "print(\"result = \", result)\n",
    "\n",
    "# filter the list to exclude negative numbers\n",
    "result = [ x for x in result if x >=0]\n",
    "print(\"result = \", result)\n",
    "\n",
    "# apply a function to all the elements\n",
    "result = [ abs(x) for x in vec]\n",
    "print(\"result = \", result)\n",
    "\n",
    "# call a method on each element\n",
    "freshfruit = [' banana ', ' loganberry    ', 'passion fruit    ']\n",
    "result = [ x.strip() for x in freshfruit]\n",
    "print(\"strip = \", result)\n",
    "\n",
    "# create a list of 2-tuples like (number, square)\n",
    "result = [ (x, x**2) for x in range(6)]\n",
    "print(\"tuple = \", result)\n",
    "\n",
    "# flatten a list using a listcomp with two 'for'\n",
    "vec = [[1, 2, 3], [4, 5, 6], [7, 8, 9]]\n",
    "result = [ x for e in vec for x in e]\n",
    "print(\"result = \", result)"
   ]
  },
  {
   "cell_type": "code",
   "execution_count": null,
   "metadata": {},
   "outputs": [],
   "source": [
    "from math import pi\n",
    "\n",
    "result = [str(round(pi, i)) for i in range(1, 6)]\n",
    "print(\"result = \", result)"
   ]
  },
  {
   "cell_type": "code",
   "execution_count": null,
   "metadata": {},
   "outputs": [],
   "source": [
    "## 행과 열을 바꾸기\n",
    "matrix = [\n",
    "    [1, 2, 3, 4],\n",
    "    [5, 6, 7, 8],\n",
    "    [9, 10, 11, 12]\n",
    "]\n",
    "result = [[row[i] for row in matrix] for i in range(4)]\n",
    "print(result)\n",
    "\n",
    "## 내장 함수\n",
    "result2 = list(zip(*matrix))\n",
    "print(result2)\n"
   ]
  },
  {
   "cell_type": "code",
   "execution_count": 57,
   "metadata": {},
   "outputs": [
    {
     "name": "stdout",
     "output_type": "stream",
     "text": [
      "first del =  [1, 66.25, 333, 333, 1234.5]\n",
      "second del =  [66.25, 333, 333, 1234.5]\n",
      "\u001b[31mthird del a[:] = \u001b[0m []\n"
     ]
    }
   ],
   "source": [
    "\n",
    "a = [ -1, 1, 66.25, 333, 333, 1234.5]\n",
    "del a[0]\n",
    "print(\"first del = \", a)\n",
    "del a[0]\n",
    "print(\"second del = \", a)\n",
    "del a[:]\n",
    "print(\"\\033[31mthird del a[:] = \\033[0m\", a)\n"
   ]
  },
  {
   "cell_type": "markdown",
   "metadata": {},
   "source": [
    "### 튜플과 시퀀스"
   ]
  }
 ],
 "metadata": {
  "kernelspec": {
   "display_name": "Python 3",
   "language": "python",
   "name": "python3"
  },
  "language_info": {
   "codemirror_mode": {
    "name": "ipython",
    "version": 3
   },
   "file_extension": ".py",
   "mimetype": "text/x-python",
   "name": "python",
   "nbconvert_exporter": "python",
   "pygments_lexer": "ipython3",
   "version": "3.12.3"
  }
 },
 "nbformat": 4,
 "nbformat_minor": 2
}
