{
 "cells": [
  {
   "cell_type": "markdown",
   "metadata": {},
   "source": [
    "# Excel"
   ]
  },
  {
   "cell_type": "code",
   "execution_count": null,
   "metadata": {},
   "outputs": [],
   "source": [
    "import pandas as pd"
   ]
  },
  {
   "cell_type": "code",
   "execution_count": null,
   "metadata": {},
   "outputs": [],
   "source": [
    "df = pd.DataFrame(data=\n",
    "                  {\n",
    "                    'Name': ['Alice', 'Bob', 'Charlie', 'David', 'Eve'],\n",
    "                    'Age': [25, 26, 27, 28, 29],\n",
    "                  }, index = range(1, 6))"
   ]
  },
  {
   "cell_type": "code",
   "execution_count": null,
   "metadata": {},
   "outputs": [],
   "source": [
    "import xlwings as xw\n",
    "from xlwings.utils import rgb_to_int\n",
    "from win32com.client import constants as c\n",
    "\n",
    "# 엑셀 애플리케이션 실행 (이미 실행 중인 경우 불필요)\n",
    "app = xw.App(visible=True, add_book=False)\n",
    "\n",
    "# 기존 엑셀 파일 열기 (파일 경로를 적절히 변경)\n",
    "wb = app.books.open(r\"Camp1.xlsx\")\n",
    "\n",
    "# 활성 시트 선택\n",
    "sheet = wb.sheets.active"
   ]
  },
  {
   "cell_type": "code",
   "execution_count": null,
   "metadata": {},
   "outputs": [],
   "source": [
    "ws = wb.sheets[0]\n",
    "ws.clear()\n",
    "ws.name = 'Main'\n",
    "\n",
    "rng = ws.range('A1')\n",
    "rng.value = df\n",
    "last_col = ws.used_range.last_cell.column  # 마지막 데이터 열 번호\n",
    "\n",
    "first_row = ws.used_range.rows(1)\n",
    "first_row.api.HorizontalAlignment = c.xlCenter\n",
    "first_row.api.Interior.Color =  rgb_to_int((0, 0, 255))\n",
    "first_row.api.Font.Color = rgb_to_int((255, 255, 255))\n"
   ]
  },
  {
   "cell_type": "code",
   "execution_count": null,
   "metadata": {},
   "outputs": [],
   "source": [
    "borders = [\n",
    "    c.xlEdgeLeft,      # 왼쪽\n",
    "    c.xlEdgeRight,     # 오른쪽\n",
    "    c.xlEdgeTop,       # 위쪽\n",
    "    c.xlEdgeBottom,    # 아래쪽\n",
    "    c.xlInsideVertical,  # 내부 세로선\n",
    "    c.xlInsideHorizontal # 내부 가로선\n",
    "]\n"
   ]
  },
  {
   "cell_type": "code",
   "execution_count": null,
   "metadata": {},
   "outputs": [],
   "source": [
    "rng = ws.used_range\n",
    "for border in borders:\n",
    "    b = rng.api.Borders(border)\n",
    "    b.LineStyle = c.xlNone"
   ]
  },
  {
   "cell_type": "code",
   "execution_count": null,
   "metadata": {},
   "outputs": [],
   "source": [
    "# 셀 선택\n",
    "rng = ws.range(\"A1\").current_region  # 실질적인 데이터 범위만 선택\n",
    "# 📌 [1] 테두리 적용 (모든 방향)\n",
    "\n",
    "for border in borders:\n",
    "    b = rng.api.Borders(border)\n",
    "    b.LineStyle = c.xlContinuous  # 실선\n",
    "    b.Weight = c.xlThin  # 얇은 선\n",
    "    b.Color = 0x000000  # 파란색\n",
    "\n",
    "# 📌 [2] 특정 테두리 속성 개별 적용\n",
    "# 아래쪽 테두리를 두껍게 빨간색으로 설정\n",
    "b = rng.api.Borders(c.xlEdgeBottom)\n",
    "b.LineStyle = c.xlContinuous  # 실선\n",
    "b.Weight = c.xlThick  # 두꺼운 선\n",
    "b.Color = 0xFF0000  # 빨간색\n",
    "\n",
    "# 엑셀 종료 방지\n",
    "app.display_alerts = False"
   ]
  },
  {
   "cell_type": "code",
   "execution_count": null,
   "metadata": {},
   "outputs": [],
   "source": [
    "# 📌 [1] 새로운 시트 추가 (Sheet1 다음 위치에 Sheet2 추가)\n",
    "ws2 = wb.sheets.add(name=\"Sheet2\", after=ws)\n",
    "ws2.name = 'Data'\n",
    "# 📌 [2] Sheet2를 활성화\n",
    "ws2.activate()\n",
    "ws2.range(\"A1\").select()\n"
   ]
  },
  {
   "cell_type": "code",
   "execution_count": null,
   "metadata": {},
   "outputs": [],
   "source": [
    "result = 0\n",
    "\n",
    "def add(num):\n",
    "    global result\n",
    "    result += num\n",
    "    return result\n",
    "\n",
    "rng = ws2.range(\"A1\").current_region\n",
    "\n",
    "for i in range(1, 11):\n",
    "    ws2.range(f\"A{i}\").value = i\n",
    "    ws2.range(f\"B{i}\").value = add(i)\n",
    "\n",
    "wb.save('Camp1.xlsx')"
   ]
  },
  {
   "cell_type": "code",
   "execution_count": null,
   "metadata": {},
   "outputs": [],
   "source": [
    "ws2.delete()\n",
    "ws.activate()"
   ]
  },
  {
   "cell_type": "code",
   "execution_count": null,
   "metadata": {},
   "outputs": [],
   "source": [
    "ws.activate()"
   ]
  },
  {
   "cell_type": "markdown",
   "metadata": {},
   "source": [
    "<style>\n",
    "    mark{\n",
    "        background-color: transparent;\n",
    "        color:yellow;\n",
    "        font-size: 1.5em;\n",
    "    }\n",
    "</style>\n",
    "<mark>Class</mark>"
   ]
  },
  {
   "cell_type": "code",
   "execution_count": null,
   "metadata": {},
   "outputs": [],
   "source": [
    "class Calculator:\n",
    "    def __init__(self):\n",
    "        self.result = 0\n",
    "\n",
    "    def add(self, num):\n",
    "        self.result += num\n",
    "        return self.result\n",
    "\n",
    "    def sub(self, num):\n",
    "        self.result -= num\n",
    "        return self.result\n",
    "\n",
    "cal1 = Calculator() # cal1 객체 생성\n",
    "cal2 = Calculator() # cal2 객체 생성\n",
    "\n",
    "print(\"Cal1:\", cal1.add(3), end=\"\\n\\n\")\n",
    "print(\"Cal1 + 7 =\", cal1.add(4), end=\"\\n\\n\")\n",
    "print(\"Sub:\", cal2.sub(3))\n",
    "print(\"Sub - 7:\",cal2.sub(7))"
   ]
  },
  {
   "cell_type": "code",
   "execution_count": null,
   "metadata": {},
   "outputs": [],
   "source": [
    "class FourCal:\n",
    "\n",
    "    def __init__(self, first=0, second=0): # 생성자\n",
    "        self.first = first\n",
    "        self.second = second\n",
    "\n",
    "    def setdata(self, first, second):\n",
    "        self.first = first\n",
    "        self.second = second\n",
    "\n",
    "    def add(self):\n",
    "        result = self.first + self.second\n",
    "        return result\n",
    "\n",
    "    def mul(self):\n",
    "        result = self.first * self.second\n",
    "        return result\n",
    "\n",
    "    def sub(self):\n",
    "        result = self.first - self.second\n",
    "        return result\n",
    "\n",
    "    def div(self):\n",
    "        result = self.first / self.second\n",
    "        return result\n",
    "\n",
    "a = FourCal()\n",
    "a.setdata(4, 3)\n",
    "\n",
    "print(\"4 + 2 =\", a.add(), a.mul(), a.sub(), a.div(), end=\"\\n\\n\")\n",
    "\n",
    "b = FourCal(5, 2)\n",
    "print(\"5 + 2 =\", b.add(), b.mul(), b.sub(), b.div())\n",
    "\n"
   ]
  },
  {
   "cell_type": "markdown",
   "metadata": {},
   "source": [
    "#### 상속"
   ]
  },
  {
   "cell_type": "code",
   "execution_count": null,
   "metadata": {},
   "outputs": [],
   "source": [
    "class MoreFourCal(FourCal):\n",
    "    def pow(self):\n",
    "        result = self.first ** self.second\n",
    "        return result\n",
    "\n",
    "c = MoreFourCal(4, 2)\n",
    "print(\"4 ** 2 =\", c.pow())\n",
    "\n",
    "print(\"4, 2 add mull sub div =\", c.add(), c.mul(), c.sub(), c.div())"
   ]
  },
  {
   "cell_type": "code",
   "execution_count": null,
   "metadata": {},
   "outputs": [],
   "source": [
    "str1 =\"hello\"\n",
    "str2 = \"world\"\n",
    "\n",
    "new_str = str1.__add__(str2)\n",
    "\n",
    "print(new_str)\n",
    "\n"
   ]
  },
  {
   "cell_type": "code",
   "execution_count": null,
   "metadata": {},
   "outputs": [],
   "source": [
    "print(str1.__len__())"
   ]
  },
  {
   "cell_type": "code",
   "execution_count": null,
   "metadata": {},
   "outputs": [],
   "source": [
    "class Counter:\n",
    "    def __init__(self):\n",
    "        self.count = 1\n",
    "\n",
    "    def increment(self):\n",
    "        self.count += 1\n",
    "\n",
    "    def decrement(self):\n",
    "        self.count -= 1\n",
    "\n",
    "    def __str__(self):\n",
    "        return f\"Count: {self.count}\"\n",
    "\n",
    "    def __add__(self, other):\n",
    "        if isinstance(other, Counter):\n",
    "            return self.count + other.count\n",
    "        raise Exception(\"Counter 인스턴스만 더할 수 있습니다.\")\n",
    "\n",
    "c1 = Counter()\n",
    "c2 = Counter()\n",
    "\n",
    "c1.increment()\n",
    "c2.increment()\n",
    "\n",
    "print(c1, c2)\n",
    "print(c1 + c2)\n",
    "print(c1 + 5)"
   ]
  },
  {
   "cell_type": "code",
   "execution_count": null,
   "metadata": {},
   "outputs": [],
   "source": [
    "class Car:\n",
    "    def __init__(self, make, model, year):\n",
    "        self.make = make\n",
    "        self.model = model\n",
    "        self.year = year\n",
    "\n",
    "    def __str__(self): # Usser-friendly output\n",
    "        return f\"{self.year} {self.make} {self.model}\"\n",
    "\n",
    "    def __repr__(self): # Developer-friendly output\n",
    "        return f\"Car(make='{self.make}', model='{self.model}', year={self.year})\"\n",
    "\n",
    "my_car = Car(\"Hyundai\", \"Avante\", 2021)\n",
    "\n",
    "print(str(my_car))\n",
    "print(repr(my_car))"
   ]
  },
  {
   "cell_type": "code",
   "execution_count": null,
   "metadata": {},
   "outputs": [],
   "source": [
    "wb.save('Camp1.xlsx')\n",
    "wb.close()\n",
    "app.quit()"
   ]
  }
 ],
 "metadata": {
  "kernelspec": {
   "display_name": "Python 3",
   "language": "python",
   "name": "python3"
  },
  "language_info": {
   "codemirror_mode": {
    "name": "ipython",
    "version": 3
   },
   "file_extension": ".py",
   "mimetype": "text/x-python",
   "name": "python",
   "nbconvert_exporter": "python",
   "pygments_lexer": "ipython3",
   "version": "3.13.2"
  }
 },
 "nbformat": 4,
 "nbformat_minor": 2
}
