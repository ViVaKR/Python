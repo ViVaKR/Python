{
 "cells": [
  {
   "cell_type": "markdown",
   "metadata": {},
   "source": [
    "# Excel"
   ]
  },
  {
   "cell_type": "code",
   "execution_count": 79,
   "metadata": {},
   "outputs": [],
   "source": [
    "import pandas as pd"
   ]
  },
  {
   "cell_type": "code",
   "execution_count": 80,
   "metadata": {},
   "outputs": [],
   "source": [
    "df = pd.DataFrame(data=\n",
    "                  {\n",
    "                    'Name': ['Alice', 'Bob', 'Charlie', 'David', 'Eve'],\n",
    "                    'Age': [25, 26, 27, 28, 29],\n",
    "                  }, index = range(1, 6))"
   ]
  },
  {
   "cell_type": "code",
   "execution_count": 81,
   "metadata": {},
   "outputs": [],
   "source": [
    "import xlwings as xw\n",
    "from xlwings.utils import rgb_to_int\n",
    "from win32com.client import constants as c\n",
    "\n",
    "# 엑셀 애플리케이션 실행 (이미 실행 중인 경우 불필요)\n",
    "app = xw.App(visible=True, add_book=False)\n",
    "\n",
    "# 기존 엑셀 파일 열기 (파일 경로를 적절히 변경)\n",
    "wb = app.books.open(r\"Camp1.xlsx\")\n",
    "\n",
    "# 활성 시트 선택\n",
    "sheet = wb.sheets.active"
   ]
  },
  {
   "cell_type": "code",
   "execution_count": 82,
   "metadata": {},
   "outputs": [],
   "source": [
    "ws = wb.sheets[0]\n",
    "ws.clear()\n",
    "ws.name = 'Main'\n",
    "\n",
    "rng = ws.range('A1')\n",
    "rng.value = df\n",
    "last_col = ws.used_range.last_cell.column  # 마지막 데이터 열 번호\n",
    "\n",
    "first_row = ws.used_range.rows(1)\n",
    "first_row.api.HorizontalAlignment = c.xlCenter\n",
    "first_row.api.Interior.Color =  rgb_to_int((0, 0, 255))\n",
    "first_row.api.Font.Color = rgb_to_int((255, 255, 255))\n"
   ]
  },
  {
   "cell_type": "code",
   "execution_count": 83,
   "metadata": {},
   "outputs": [],
   "source": [
    "borders = [\n",
    "    c.xlEdgeLeft,      # 왼쪽\n",
    "    c.xlEdgeRight,     # 오른쪽\n",
    "    c.xlEdgeTop,       # 위쪽\n",
    "    c.xlEdgeBottom,    # 아래쪽\n",
    "    c.xlInsideVertical,  # 내부 세로선\n",
    "    c.xlInsideHorizontal # 내부 가로선\n",
    "]\n"
   ]
  },
  {
   "cell_type": "code",
   "execution_count": 84,
   "metadata": {},
   "outputs": [],
   "source": [
    "rng = ws.used_range\n",
    "for border in borders:\n",
    "    b = rng.api.Borders(border)\n",
    "    b.LineStyle = c.xlNone"
   ]
  },
  {
   "cell_type": "code",
   "execution_count": 85,
   "metadata": {},
   "outputs": [],
   "source": [
    "# 셀 선택\n",
    "rng = ws.range(\"A1\").current_region  # 실질적인 데이터 범위만 선택\n",
    "# 📌 [1] 테두리 적용 (모든 방향)\n",
    "\n",
    "for border in borders:\n",
    "    b = rng.api.Borders(border)\n",
    "    b.LineStyle = c.xlContinuous  # 실선\n",
    "    b.Weight = c.xlThin  # 얇은 선\n",
    "    b.Color = 0x000000  # 파란색\n",
    "\n",
    "# 📌 [2] 특정 테두리 속성 개별 적용\n",
    "# 아래쪽 테두리를 두껍게 빨간색으로 설정\n",
    "b = rng.api.Borders(c.xlEdgeBottom)\n",
    "b.LineStyle = c.xlContinuous  # 실선\n",
    "b.Weight = c.xlThick  # 두꺼운 선\n",
    "b.Color = 0xFF0000  # 빨간색\n",
    "\n",
    "# 엑셀 종료 방지\n",
    "app.display_alerts = False"
   ]
  },
  {
   "cell_type": "code",
   "execution_count": 86,
   "metadata": {},
   "outputs": [],
   "source": [
    "# 📌 [1] 새로운 시트 추가 (Sheet1 다음 위치에 Sheet2 추가)\n",
    "ws2 = wb.sheets.add(name=\"Sheet2\", after=ws)\n",
    "ws2.name = 'Data'\n",
    "# 📌 [2] Sheet2를 활성화\n",
    "ws2.activate()\n",
    "ws2.range(\"A1\").select()\n"
   ]
  },
  {
   "cell_type": "code",
   "execution_count": 95,
   "metadata": {},
   "outputs": [],
   "source": [
    "result = 0\n",
    "\n",
    "def add(num):\n",
    "    global result\n",
    "    result += num\n",
    "    return result\n",
    "\n",
    "rng = ws2.range(\"A1\").current_region\n",
    "\n",
    "for i in range(1, 11):\n",
    "    ws2.range(f\"A{i}\").value = i\n",
    "    ws2.range(f\"B{i}\").value = add(i)\n"
   ]
  },
  {
   "cell_type": "code",
   "execution_count": 51,
   "metadata": {},
   "outputs": [],
   "source": [
    "ws2.delete()\n",
    "ws.activate()"
   ]
  },
  {
   "cell_type": "code",
   "execution_count": 53,
   "metadata": {},
   "outputs": [],
   "source": [
    "ws.activate()"
   ]
  },
  {
   "cell_type": "code",
   "execution_count": 43,
   "metadata": {},
   "outputs": [],
   "source": [
    "wb.save('Camp1.xlsx')\n",
    "wb.close()\n",
    "app.quit()"
   ]
  }
 ],
 "metadata": {
  "kernelspec": {
   "display_name": "Python 3",
   "language": "python",
   "name": "python3"
  },
  "language_info": {
   "codemirror_mode": {
    "name": "ipython",
    "version": 3
   },
   "file_extension": ".py",
   "mimetype": "text/x-python",
   "name": "python",
   "nbconvert_exporter": "python",
   "pygments_lexer": "ipython3",
   "version": "3.13.2"
  }
 },
 "nbformat": 4,
 "nbformat_minor": 2
}
