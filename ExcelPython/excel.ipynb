{
 "cells": [
  {
   "cell_type": "markdown",
   "metadata": {},
   "source": [
    "# Excel"
   ]
  },
  {
   "cell_type": "code",
   "execution_count": null,
   "metadata": {},
   "outputs": [],
   "source": [
    "import pandas as pd\n",
    "import numpy as np\n",
    "from xlwings import view"
   ]
  },
  {
   "cell_type": "code",
   "execution_count": null,
   "metadata": {},
   "outputs": [],
   "source": [
    "df = pd.DataFrame(data=\n",
    "                  {\n",
    "                    'Name': ['Alice', 'Bob', 'Charlie', 'David', 'Eve'],\n",
    "                    'Age': [25, 26, 27, 28, 29],\n",
    "                  }, index = range(1, 6))\n",
    "df"
   ]
  },
  {
   "cell_type": "code",
   "execution_count": 65,
   "metadata": {},
   "outputs": [],
   "source": [
    "import xlwings as xw\n",
    "from win32com.client import constants as c\n",
    "\n",
    "# 엑셀 애플리케이션 실행 (이미 실행 중인 경우 불필요)\n",
    "app = xw.App(visible=True, add_book=False)\n",
    "\n",
    "# 기존 엑셀 파일 열기 (파일 경로를 적절히 변경)\n",
    "wb = app.books.open(r\"Camp1.xlsx\")\n",
    "\n",
    "# 활성 시트 선택\n",
    "sheet = wb.sheets.active\n",
    "\n",
    "# 파일을 저장하고 닫기 (필요 시)\n",
    "# wb.save()\n",
    "# wb.close()\n",
    "# app.quit()"
   ]
  },
  {
   "cell_type": "code",
   "execution_count": 66,
   "metadata": {},
   "outputs": [],
   "source": [
    "ws = wb.sheets[0]\n",
    "ws.clear()\n",
    "ws.name = 'Main'\n",
    "first_row = ws.range('1:1')\n",
    "first_row.api.HorizontalAlignment = c.xlCenter\n",
    "first_row.api.Interior.Color = 0x00FF00\n",
    "rng = ws.range('A1')\n",
    "rng.value = df\n"
   ]
  },
  {
   "cell_type": "code",
   "execution_count": 64,
   "metadata": {},
   "outputs": [],
   "source": [
    "wb.save('Camp1.xlsx')\n",
    "wb.close()\n",
    "app.quit()"
   ]
  }
 ],
 "metadata": {
  "kernelspec": {
   "display_name": "Python 3",
   "language": "python",
   "name": "python3"
  },
  "language_info": {
   "codemirror_mode": {
    "name": "ipython",
    "version": 3
   },
   "file_extension": ".py",
   "mimetype": "text/x-python",
   "name": "python",
   "nbconvert_exporter": "python",
   "pygments_lexer": "ipython3",
   "version": "3.13.2"
  }
 },
 "nbformat": 4,
 "nbformat_minor": 2
}
