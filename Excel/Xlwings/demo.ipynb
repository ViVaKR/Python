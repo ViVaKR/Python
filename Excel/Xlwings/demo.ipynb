{
 "cells": [
  {
   "cell_type": "code",
   "execution_count": 29,
   "metadata": {},
   "outputs": [],
   "source": [
    "import numpy as np\n",
    "\n"
   ]
  },
  {
   "cell_type": "code",
   "execution_count": 31,
   "metadata": {},
   "outputs": [
    {
     "name": "stdout",
     "output_type": "stream",
     "text": [
      "This is a list into numpy array:\n",
      " [900 200 300  99  54  80]\n"
     ]
    }
   ],
   "source": [
    "p_list = np.array([900, 200, 300, 99, 54, 80])\n",
    "print(\"This is a list into numpy array:\\n\", p_list)"
   ]
  },
  {
   "cell_type": "code",
   "execution_count": 33,
   "metadata": {},
   "outputs": [
    {
     "name": "stdout",
     "output_type": "stream",
     "text": [
      "Type:  <class 'numpy.ndarray'>\n"
     ]
    }
   ],
   "source": [
    "print(\"Type: \", type(p_list))"
   ]
  },
  {
   "cell_type": "code",
   "execution_count": 35,
   "metadata": {},
   "outputs": [
    {
     "name": "stdout",
     "output_type": "stream",
     "text": [
      "This is a tuple into numpy array:\n",
      " [900 200 300  99  54  80]\n"
     ]
    }
   ],
   "source": [
    "p_tuple = np.array((900, 200, 300, 99, 54, 80))\n",
    "print(\"This is a tuple into numpy array:\\n\", p_tuple)"
   ]
  },
  {
   "cell_type": "code",
   "execution_count": 37,
   "metadata": {},
   "outputs": [
    {
     "name": "stdout",
     "output_type": "stream",
     "text": [
      "This is a zero-d array:\n",
      " 30 0\n"
     ]
    }
   ],
   "source": [
    "zerod_arr = np.array(30)\n",
    "print(\"This is a zero-d array:\\n\", zerod_arr, zerod_arr.ndim)"
   ]
  },
  {
   "cell_type": "code",
   "execution_count": 38,
   "metadata": {},
   "outputs": [
    {
     "name": "stdout",
     "output_type": "stream",
     "text": [
      "This is a one-d array:\n",
      " [1 2 3 4 5] 1\n"
     ]
    }
   ],
   "source": [
    "oned_arr = np.array([1, 2, 3, 4, 5])\n",
    "print(\"This is a one-d array:\\n\", oned_arr, oned_arr.ndim)"
   ]
  },
  {
   "cell_type": "code",
   "execution_count": 39,
   "metadata": {},
   "outputs": [
    {
     "name": "stdout",
     "output_type": "stream",
     "text": [
      "This is a two-d array:\n",
      " [[1 2 3]\n",
      " [4 5 6]] 2\n"
     ]
    }
   ],
   "source": [
    "twod_arr = np.array([[1, 2, 3], [4, 5, 6]])\n",
    "print(\"This is a two-d array:\\n\", twod_arr, twod_arr.ndim)"
   ]
  },
  {
   "cell_type": "code",
   "execution_count": null,
   "metadata": {},
   "outputs": [],
   "source": [
    "threed_arr = np.array([[[1, 2, 3], [4, 5, 6]], [[7, 8, 9], [10, 11, 12]]])\n",
    "print(\"This is a three-d array:\\n\", threed_arr, threed_arr.ndim)"
   ]
  },
  {
   "cell_type": "code",
   "execution_count": null,
   "metadata": {},
   "outputs": [],
   "source": [
    "linspace_arr = np.linspace(2., 5., 6)\n",
    "print(\"This is a linspace array:\\n\", linspace_arr)"
   ]
  },
  {
   "cell_type": "code",
   "execution_count": 56,
   "metadata": {},
   "outputs": [
    {
     "name": "stdout",
     "output_type": "stream",
     "text": [
      "0, 1, 1, 2, 3, 5, 8, 13, 21, 34, 55, 89, 144, 233, 377, 610, 987, "
     ]
    }
   ],
   "source": [
    "a, b = 0, 1\n",
    "while a < 1000:\n",
    "    print(a, end=', ')\n",
    "    a, b = b, a+b"
   ]
  },
  {
   "cell_type": "code",
   "execution_count": null,
   "metadata": {},
   "outputs": [],
   "source": [
    "for i in range(10):\n",
    "    print(i, end=', ')"
   ]
  }
 ],
 "metadata": {
  "kernelspec": {
   "display_name": "Python 3",
   "language": "python",
   "name": "python3"
  },
  "language_info": {
   "codemirror_mode": {
    "name": "ipython",
    "version": 3
   },
   "file_extension": ".py",
   "mimetype": "text/x-python",
   "name": "python",
   "nbconvert_exporter": "python",
   "pygments_lexer": "ipython3",
   "version": "3.13.2"
  }
 },
 "nbformat": 4,
 "nbformat_minor": 2
}
