{
 "cells": [
  {
   "attachments": {},
   "cell_type": "markdown",
   "metadata": {},
   "source": [
    "#### 사칙연산"
   ]
  },
  {
   "cell_type": "code",
   "execution_count": null,
   "metadata": {},
   "outputs": [],
   "source": [
    "a = 3\n",
    "b = 2\n",
    "print(a + b)\n",
    "print(a - b)\n",
    "print(a * b)\n",
    "print(f\"{a} 의 {b} 제곱 = {a ** b}\")\n",
    "print(f'{a} / {b} = {a / b}, 몫 = { a // b}, 나머지 = {a % b}')"
   ]
  },
  {
   "attachments": {},
   "cell_type": "markdown",
   "metadata": {},
   "source": [
    "#### 문자열\n",
    "> [형식]\n",
    ">> `\"` 큰 따옴표 `\"`  \n",
    ">> `'` 작은 따옴표 `'`  \n",
    ">> `\"\"\"` 큰 따옴표 3개 `\"\"\"`  \n",
    ">> `'''` 작은 따옴표 3개 `'''`  \n",
    "---\n",
    "> [Escape Code, 탈출문자]  \n",
    ">> `\\n` : Line Feed (LF), 커서 움짐임 없이 새로운 줄 추가  \n",
    ">> `\\r` : Carriage Return (CR), 커서를 앞으로 옮김 새로운 줄 추가 없음  \n",
    ">> `\\t` : 문자열 사이에 탭 간격 줌  \n",
    ">> `\\\\`, `\\'`, `\\\"` : 각각 (`\\ ' \"`) 문자를 그대로 표현함  \n",
    ">> `\\000` : 널문자  \n",
    ">> `\\a` : 벨소리  \n",
    ">> `\\b` : backspace key  \n"
   ]
  },
  {
   "cell_type": "code",
   "execution_count": null,
   "metadata": {},
   "outputs": [],
   "source": [
    "a = \"Hello World, 'Nested String'\\nI'm happy!\"\n",
    "print(type(a),a)\n",
    "\n",
    "b = \"\"\"\n",
    "    이스케이프 문자 없이 보여지는 형식\n",
    "    그대로 표현해주는 따옴표 3개\n",
    "    형식\n",
    " \"\"\"\n",
    "print(b)\n",
    "\n",
    "c = \"Added String\"\n",
    "print(a + '\\n'+ c) # 문자열 합치기\n",
    "\n",
    "d = \"Hello World\\n\"\n",
    "print(d * 5) # 문자를 숫자 만큼 반복\n"
   ]
  },
  {
   "cell_type": "code",
   "execution_count": null,
   "metadata": {},
   "outputs": [],
   "source": [
    "import sys\n",
    "print(sys.version)\n",
    "sys.path"
   ]
  },
  {
   "cell_type": "code",
   "execution_count": null,
   "metadata": {},
   "outputs": [],
   "source": [
    "import pandas as pd\n",
    "\n",
    "\n",
    "df = pd.DataFrame({\n",
    "    \"Name\" :['Kim BJ', 'Lee SY', 'Park JH'],\n",
    "    \"Age\" :[ 20, 30, 40],\n",
    "    \"Sex\" : ['M', 'F', 'M']\n",
    "})\n",
    "df.describe()"
   ]
  },
  {
   "cell_type": "code",
   "execution_count": null,
   "metadata": {},
   "outputs": [],
   "source": [
    "df['Age'].max()"
   ]
  },
  {
   "cell_type": "code",
   "execution_count": null,
   "metadata": {},
   "outputs": [],
   "source": [
    "ages = pd.Series([22, 35, 58], name=\"Age\")\n",
    "ages.max()"
   ]
  },
  {
   "cell_type": "code",
   "execution_count": null,
   "metadata": {},
   "outputs": [],
   "source": [
    "categories=pd.read_csv('code-categories.csv')\n",
    "categories"
   ]
  },
  {
   "cell_type": "code",
   "execution_count": null,
   "metadata": {},
   "outputs": [],
   "source": [
    "wb = pd.read_excel('viv.xlsx', index_col=0)\n",
    "wb\n"
   ]
  },
  {
   "cell_type": "code",
   "execution_count": null,
   "metadata": {},
   "outputs": [],
   "source": [
    "url = (\n",
    "    \"https://raw.githubusercontent.com/pandas-dev\"\n",
    "    \"/pandas/main/pandas/tests/io/data/csv/tips.csv\"\n",
    ")\n",
    "\n",
    "tips = pd.read_csv(url)\n",
    "tips.to_excel('tips.xlsx')"
   ]
  },
  {
   "cell_type": "code",
   "execution_count": null,
   "metadata": {},
   "outputs": [],
   "source": [
    "import requests\n",
    "response = requests.get(url)\n",
    "\n",
    "if response.status_code == 200:\n",
    "    with open('tips.csv', 'w') as f:\n",
    "        f.write(response.text)\n",
    "else:\n",
    "    print(\"Failed to download file\")\n",
    "\n",
    "# df = pd.read_csv('tips.csv')\n",
    "# print(df.head())\n",
    "# print(df.describe())\n",
    "# print(df.info())\n"
   ]
  },
  {
   "cell_type": "code",
   "execution_count": null,
   "metadata": {},
   "outputs": [],
   "source": [
    "tips_ex = pd.read_excel('tips.xlsx')\n",
    "tips_ex.head(5)"
   ]
  },
  {
   "cell_type": "code",
   "execution_count": null,
   "metadata": {},
   "outputs": [],
   "source": [
    "tips[\"total_bill\"].plot.hist(bins=20)"
   ]
  },
  {
   "cell_type": "code",
   "execution_count": null,
   "metadata": {},
   "outputs": [],
   "source": [
    "# tips[\"total_bill\"] = tips[\"total_bill\"] - 2\n",
    "# tips[\"new_bill\"] = tips[\"total_bill\"] / 2\n",
    "# tips = tips.drop(\"new_bill\", axis=1)\n",
    "tips"
   ]
  },
  {
   "cell_type": "code",
   "execution_count": null,
   "metadata": {},
   "outputs": [],
   "source": [
    "tips[tips[\"total_bill\"] > 10]"
   ]
  },
  {
   "cell_type": "code",
   "execution_count": null,
   "metadata": {},
   "outputs": [],
   "source": [
    "date = pd.Timestamp(\"2025-01-17\")\n",
    "print(date.year, date.month, date.day, date.to_period('D'))"
   ]
  },
  {
   "cell_type": "code",
   "execution_count": null,
   "metadata": {},
   "outputs": [],
   "source": [
    "tips[[\"sex\", \"total_bill\", \"tip\"]]"
   ]
  },
  {
   "cell_type": "code",
   "execution_count": null,
   "metadata": {},
   "outputs": [],
   "source": [
    "tips = tips.sort_values([\"total_bill\"], ascending=[False])\n",
    "tips"
   ]
  },
  {
   "cell_type": "code",
   "execution_count": null,
   "metadata": {},
   "outputs": [],
   "source": [
    "tips[\"time\"].str.rstrip().str.len()"
   ]
  },
  {
   "cell_type": "code",
   "execution_count": null,
   "metadata": {},
   "outputs": [],
   "source": [
    "s =\"안녕하세요\"\n",
    "print(s.__len__())"
   ]
  },
  {
   "cell_type": "code",
   "execution_count": null,
   "metadata": {},
   "outputs": [],
   "source": [
    "tips[\"sex\"].str.find(\"ale\")"
   ]
  },
  {
   "cell_type": "code",
   "execution_count": null,
   "metadata": {},
   "outputs": [],
   "source": [
    "import numpy as np\n",
    "\n",
    "df2 = pd.DataFrame({\n",
    "    \"Key\": [\"A\", \"B\", \"C\", \"D\"],\n",
    "    \"Value\" : np.random.randn(4)\n",
    "})\n",
    "df3 = pd.DataFrame(\n",
    "    {\n",
    "        \"Key\": [\"B\", \"D\", \"D\", \"E\"],\n",
    "        \"Value\" : np.random.randn(4)\n",
    "    }\n",
    ")\n",
    "\n",
    "inner_join = pd.merge(df2, df3, on=\"Key\", how=\"inner\")\n",
    "inner_join"
   ]
  },
  {
   "cell_type": "code",
   "execution_count": null,
   "metadata": {},
   "outputs": [],
   "source": [
    "left_join = pd.merge(df2, df3, on=\"Key\", how=\"left\")\n",
    "left_join"
   ]
  },
  {
   "cell_type": "code",
   "execution_count": null,
   "metadata": {},
   "outputs": [],
   "source": [
    "right_join = pd.merge(df2, df3, on=\"Key\", how=\"right\")\n",
    "right_join"
   ]
  },
  {
   "cell_type": "code",
   "execution_count": null,
   "metadata": {},
   "outputs": [],
   "source": [
    "outer_join = pd.merge(df2, df3, on=\"Key\", how=\"outer\")\n",
    "outer_join"
   ]
  },
  {
   "cell_type": "code",
   "execution_count": null,
   "metadata": {},
   "outputs": [],
   "source": [
    "BBB = list(range(0, 8))\n",
    "print(BBB)"
   ]
  },
  {
   "cell_type": "code",
   "execution_count": null,
   "metadata": {},
   "outputs": [],
   "source": [
    "AAA = [1] * 8\n",
    "print(AAA)"
   ]
  },
  {
   "cell_type": "code",
   "execution_count": null,
   "metadata": {},
   "outputs": [],
   "source": [
    "df = pd.DataFrame({\n",
    "    \"AAA\": AAA,\n",
    "    \"BBB\": BBB\n",
    "})\n",
    "\n",
    "df"
   ]
  },
  {
   "cell_type": "code",
   "execution_count": null,
   "metadata": {},
   "outputs": [],
   "source": [
    "series = list(range(1, 5))\n",
    "series"
   ]
  },
  {
   "cell_type": "code",
   "execution_count": null,
   "metadata": {},
   "outputs": [],
   "source": [
    "tips"
   ]
  }
 ],
 "metadata": {
  "kernelspec": {
   "display_name": "3.13.0",
   "language": "python",
   "name": "python3"
  },
  "language_info": {
   "codemirror_mode": {
    "name": "ipython",
    "version": 3
   },
   "file_extension": ".py",
   "mimetype": "text/x-python",
   "name": "python",
   "nbconvert_exporter": "python",
   "pygments_lexer": "ipython3",
   "version": "3.13.0"
  },
  "orig_nbformat": 4
 },
 "nbformat": 4,
 "nbformat_minor": 2
}
