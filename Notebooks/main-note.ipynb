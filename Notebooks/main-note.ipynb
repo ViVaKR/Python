{
 "cells": [
  {
   "attachments": {},
   "cell_type": "markdown",
   "metadata": {},
   "source": [
    "#### 사칙연산"
   ]
  },
  {
   "cell_type": "code",
   "execution_count": 1,
   "metadata": {},
   "outputs": [
    {
     "name": "stdout",
     "output_type": "stream",
     "text": [
      "5\n",
      "1\n",
      "6\n",
      "3 의 2 제곱 = 9\n",
      "3 / 2 = 1.5, 몫 = 1, 나머지 = 1\n"
     ]
    }
   ],
   "source": [
    "a = 3\n",
    "b = 2\n",
    "print(a + b)\n",
    "print(a - b)\n",
    "print(a * b)\n",
    "print(f\"{a} 의 {b} 제곱 = {a ** b}\")\n",
    "print(f'{a} / {b} = {a / b}, 몫 = { a // b}, 나머지 = {a % b}')"
   ]
  },
  {
   "attachments": {},
   "cell_type": "markdown",
   "metadata": {},
   "source": [
    "#### 문자열\n",
    "> [형식]\n",
    ">> `\"` 큰 따옴표 `\"`  \n",
    ">> `'` 작은 따옴표 `'`  \n",
    ">> `\"\"\"` 큰 따옴표 3개 `\"\"\"`  \n",
    ">> `'''` 작은 따옴표 3개 `'''`  \n",
    "---\n",
    "> [Escape Code, 탈출문자]  \n",
    ">> `\\n` : Line Feed (LF), 커서 움짐임 없이 새로운 줄 추가  \n",
    ">> `\\r` : Carriage Return (CR), 커서를 앞으로 옮김 새로운 줄 추가 없음  \n",
    ">> `\\t` : 문자열 사이에 탭 간격 줌  \n",
    ">> `\\\\`, `\\'`, `\\\"` : 각각 (`\\ ' \"`) 문자를 그대로 표현함  \n",
    ">> `\\000` : 널문자  \n",
    ">> `\\a` : 벨소리  \n",
    ">> `\\b` : backspace key  \n"
   ]
  },
  {
   "cell_type": "code",
   "execution_count": 2,
   "metadata": {},
   "outputs": [
    {
     "name": "stdout",
     "output_type": "stream",
     "text": [
      "<class 'str'> Hello World, 'Nested String'\n",
      "I'm happy!\n",
      " \n",
      "    이스케이프 문자 없이 보여지는 형식 \n",
      "    그대로 표현해주는 따옴표 3개\n",
      "    형식\n",
      " \n",
      "Hello World, 'Nested String'\n",
      "I'm happy!\n",
      "Added String\n",
      "Hello World\n",
      "Hello World\n",
      "Hello World\n",
      "Hello World\n",
      "Hello World\n",
      "\n"
     ]
    }
   ],
   "source": [
    "a = \"Hello World, 'Nested String'\\nI'm happy!\"\n",
    "print(type(a),a)\n",
    "\n",
    "b = \"\"\"\n",
    "    이스케이프 문자 없이 보여지는 형식\n",
    "    그대로 표현해주는 따옴표 3개\n",
    "    형식\n",
    " \"\"\"\n",
    "print(b)\n",
    "\n",
    "c = \"Added String\"\n",
    "print(a + '\\n'+ c) # 문자열 합치기\n",
    "\n",
    "d = \"Hello World\\n\"\n",
    "print(d * 5) # 문자를 숫자 만큼 반복\n"
   ]
  }
 ],
 "metadata": {
  "kernelspec": {
   "display_name": "Python 3",
   "language": "python",
   "name": "python3"
  },
  "language_info": {
   "codemirror_mode": {
    "name": "ipython",
    "version": 3
   },
   "file_extension": ".py",
   "mimetype": "text/x-python",
   "name": "python",
   "nbconvert_exporter": "python",
   "pygments_lexer": "ipython3",
   "version": "3.13.0"
  },
  "orig_nbformat": 4
 },
 "nbformat": 4,
 "nbformat_minor": 2
}
